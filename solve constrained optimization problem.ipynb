{
 "cells": [
  {
   "cell_type": "code",
   "execution_count": 2,
   "id": "76c364c0",
   "metadata": {},
   "outputs": [],
   "source": [
    "%matplotlib inline\n",
    "import matplotlib.pyplot as plt\n",
    "import numpy as np"
   ]
  },
  {
   "cell_type": "code",
   "execution_count": 8,
   "id": "ea454f92",
   "metadata": {},
   "outputs": [],
   "source": [
    "from scipy.optimize import Bounds, minimize\n",
    "from scipy.optimize import NonlinearConstraint"
   ]
  },
  {
   "cell_type": "markdown",
   "id": "21f49385",
   "metadata": {},
   "source": [
    "### Define objective function"
   ]
  },
  {
   "cell_type": "code",
   "execution_count": 4,
   "id": "908e2508",
   "metadata": {},
   "outputs": [],
   "source": [
    "def f(x):\n",
    "    # TODO\n",
    "    #func = -x[0] - x[1]\n",
    "    return -x[0] - x[1]"
   ]
  },
  {
   "cell_type": "markdown",
   "id": "a248684d",
   "metadata": {},
   "source": [
    "### Define constraint functions and derivatives"
   ]
  },
  {
   "cell_type": "markdown",
   "id": "afe60587",
   "metadata": {},
   "source": [
    "#### 1. calculation process of cons_f(x):\n",
    "\n",
    "transform the constraints to non-negative inequality constraints:\n",
    "($x_1 \\ge 0$ and $x_2 \\ge 0$ are set in **bounds**)\n",
    "\n",
    "$$\\begin{bmatrix}\n",
    "2x_1^4 - 8x_1^3 + 8x_1^2 - x_2 + 2\\\\\n",
    "4x_1^4 - 32x_1^3 + 88x_1^2 - 96x_1 - x_2 + 36\\\\\n",
    "-x_1 + 3\\\\\n",
    "-x_2 + 4\n",
    "\\end{bmatrix}\n",
    "\\ge\n",
    "\\begin{bmatrix}\n",
    "0\\\\\n",
    "0\\\\\n",
    "0\\\\\n",
    "0\n",
    "\\end{bmatrix}$$\n",
    "\n",
    "#### 2. calculation process of cons_Jacobian:\n",
    "\n",
    "$$\n",
    "C=\n",
    "\\begin{bmatrix}\n",
    "c_1\\\\\n",
    "c_2\\\\\n",
    "c_3\\\\\n",
    "c_4\n",
    "\\end{bmatrix}\n",
    "=\n",
    "\\begin{bmatrix}\n",
    "2x_1^4 - 8x_1^3 + 8x_1^2 - x_2 + 2\\\\\n",
    "4x_1^4 - 32x_1^3 + 88x_1^2 - 96x_1 - x_2 + 36\\\\\n",
    "-x_1 + 3\\\\\n",
    "-x_2 + 4\n",
    "\\end{bmatrix}\n",
    "$$\n",
    "\n",
    "$$\n",
    "\\nabla C=\n",
    "\\begin{bmatrix}\n",
    "\\nabla c_1\\\\\n",
    "\\nabla c_2\\\\\n",
    "\\nabla c_3\\\\\n",
    "\\nabla c_4\n",
    "\\end{bmatrix}\n",
    "=\n",
    "\\begin{bmatrix}\n",
    "\\frac{\\partial c_1}{\\partial x_1} & \\frac{\\partial c_1}{\\partial x_2}\\\\\n",
    "\\frac{\\partial c_2}{\\partial x_1} & \\frac{\\partial c_2}{\\partial x_2}\\\\\n",
    "\\frac{\\partial c_3}{\\partial x_1} & \\frac{\\partial c_3}{\\partial x_2}\\\\\n",
    "\\frac{\\partial c_4}{\\partial x_1} & \\frac{\\partial c_4}{\\partial x_2}\n",
    "\\end{bmatrix}\n",
    "=\n",
    "\\begin{bmatrix}\n",
    "8x_1^3 - 24x_1^2 + 16*x_1 & -1\\\\\n",
    "16x_1^3 - 96x_1^2 + 176*x_1 - 96 & -1\\\\\n",
    "-1 & 0\\\\\n",
    "0 & -1\n",
    "\\end{bmatrix}\n",
    "$$\n",
    "\n",
    "#### 3. calculation process of cons_Hessian:\n",
    "\n",
    "$$\n",
    "\\nabla^2 C=(C_1, C_2, C_3, C_4)\n",
    "=\n",
    "\\left(\\begin{bmatrix}\n",
    "\\frac{\\partial^2 c_1}{\\partial x_1^2} & \\frac{\\partial^2 c_1}{\\partial x_1\\partial x_2}\\\\\n",
    "\\frac{\\partial^2 c_1}{\\partial x_2\\partial x_1} & \\frac{\\partial^2 c_1}{\\partial x_2^2}\n",
    "\\end{bmatrix},\n",
    "\\begin{bmatrix}\n",
    "\\frac{\\partial^2 c_2}{\\partial x_1^2} & \\frac{\\partial^2 c_2}{\\partial x_1\\partial x_2}\\\\\n",
    "\\frac{\\partial^2 c_2}{\\partial x_2\\partial x_1} & \\frac{\\partial^2 c_2}{\\partial x_2^2}\n",
    "\\end{bmatrix},\n",
    "\\begin{bmatrix}\n",
    "\\frac{\\partial^2 c_3}{\\partial x_1^2} & \\frac{\\partial^2 c_3}{\\partial x_1\\partial x_2}\\\\\n",
    "\\frac{\\partial^2 c_3}{\\partial x_2\\partial x_1} & \\frac{\\partial^2 c_3}{\\partial x_2^2}\n",
    "\\end{bmatrix},\n",
    "\\begin{bmatrix}\n",
    "\\frac{\\partial^2 c_4}{\\partial x_1^2} & \\frac{\\partial^2 c_4}{\\partial x_1\\partial x_2}\\\\\n",
    "\\frac{\\partial^2 c_4}{\\partial x_2\\partial x_1} & \\frac{\\partial^2 c_4}{\\partial x_2^2}\n",
    "\\end{bmatrix}\\right)\n",
    "=\n",
    "\\left(\\begin{bmatrix}\n",
    "24x_1^2-48x_1+16 & 0\\\\\n",
    "0 & 0\n",
    "\\end{bmatrix},\n",
    "\\begin{bmatrix}\n",
    "48x_1^2-192x_1+176 & 0\\\\\n",
    "0 & 0\n",
    "\\end{bmatrix},\n",
    "\\begin{bmatrix}\n",
    "0 & 0\\\\\n",
    "0 & 0\n",
    "\\end{bmatrix},\n",
    "\\begin{bmatrix}\n",
    "0 & 0\\\\\n",
    "0 & 0\n",
    "\\end{bmatrix}\\right)\n",
    "$$"
   ]
  },
  {
   "cell_type": "code",
   "execution_count": 11,
   "id": "193a8cdb",
   "metadata": {},
   "outputs": [],
   "source": [
    "# TODO: derive and define the functions\n",
    "def cons_f(x):\n",
    "    # TODO   \n",
    "    return np.array([(2 * x[0])**4 - (8 * x[0])**3 + (8 * x[0])**2 - x[1] + 2, \n",
    "                     (4 * x[0])**4 - (32 * x[0])**3 + (88 * x[0])**2 - 96 * x[0] - x[1] + 36,\n",
    "                     -x[0] + 3, \n",
    "                     -x[1] + 4\n",
    "                    ])\n",
    "    \n",
    "def cons_Jacobian(x):\n",
    "    # TODO\n",
    "    return np.array([[8*x[0]**3 - 24*x[0]**2 + 16*x[0], -1], \n",
    "                     [16*x[0]**3 - 96*x[0]**2 + 176*x[0] - 96, -1],\n",
    "                     [-1, 0], \n",
    "                     [0, -1]\n",
    "                    ])\n",
    "\n",
    "def cons_Hessian(x,v):\n",
    "    # TODO\n",
    "    return v[0]*np.array([\n",
    "                         [24*x[0]**2 - 48*x[0] + 16, 48*x[0]**2 - 192*x[0] + 176], \n",
    "                         [0,0]\n",
    "                         ])\n",
    "\n",
    "# TODO: Insert the functions above into a NonlinearConstraint obeject\n",
    "nonlinear_constraint = NonlinearConstraint(cons_f, 0, np.inf, jac=cons_Jacobian, hess=cons_Hessian)"
   ]
  },
  {
   "cell_type": "markdown",
   "id": "057a3b50",
   "metadata": {},
   "source": [
    "### Define the bounds "
   ]
  },
  {
   "cell_type": "code",
   "execution_count": 6,
   "id": "2c0b7092",
   "metadata": {},
   "outputs": [],
   "source": [
    "# TODO: define the bounds\n",
    "# only a lower bound is needed so the upper bound for both variables is set to np.inf\n",
    "bounds = Bounds([0,0], [np.inf, np.inf])"
   ]
  },
  {
   "cell_type": "markdown",
   "id": "a03b1a98",
   "metadata": {},
   "source": [
    "### Call the minimize library"
   ]
  },
  {
   "cell_type": "code",
   "execution_count": 17,
   "id": "9439bc43",
   "metadata": {},
   "outputs": [
    {
     "name": "stderr",
     "output_type": "stream",
     "text": [
      "/Users/yuxuanlin/opt/anaconda3/lib/python3.9/site-packages/scipy/optimize/_hessian_update_strategy.py:182: UserWarning: delta_grad == 0.0. Check if the approximated function is linear. If the function is linear better results can be obtained by defining the Hessian as zero instead of using quasi-Newton approximations.\n",
      "  warn('delta_grad == 0.0. Check if the approximated '\n"
     ]
    }
   ],
   "source": [
    "# TODO: define initial point\n",
    "x0 = [0,0]\n",
    "\n",
    "res = minimize(f, x0, method='trust-constr', constraints=[nonlinear_constraint], bounds=bounds)"
   ]
  },
  {
   "cell_type": "markdown",
   "id": "e96a8225",
   "metadata": {},
   "source": [
    "### Print out the result"
   ]
  },
  {
   "cell_type": "code",
   "execution_count": 18,
   "id": "b38ec278",
   "metadata": {},
   "outputs": [
    {
     "name": "stdout",
     "output_type": "stream",
     "text": [
      "[0.01847008 0.20855884]\n"
     ]
    }
   ],
   "source": [
    "print(res.x) "
   ]
  },
  {
   "cell_type": "code",
   "execution_count": 19,
   "id": "d90a5745",
   "metadata": {},
   "outputs": [
    {
     "data": {
      "text/plain": [
       " barrier_parameter: 2.048000000000001e-09\n",
       " barrier_tolerance: 2.048000000000001e-09\n",
       "          cg_niter: 206\n",
       "      cg_stop_cond: 3\n",
       "            constr: [array([ 1.81005014, 36.45369214,  2.98152992,  3.79144116]), array([0.01847008, 0.20855884])]\n",
       "       constr_nfev: [218, 0]\n",
       "       constr_nhev: [14, 0]\n",
       "       constr_njev: [13, 0]\n",
       "    constr_penalty: 1.0\n",
       "  constr_violation: 0.0\n",
       "    execution_time: 0.21616721153259277\n",
       "               fun: -0.22702892640660663\n",
       "              grad: array([-1., -1.])\n",
       "               jac: [array([[  0.28738429,  -1.        ],\n",
       "       [-92.78191434,  -1.        ],\n",
       "       [ -1.        ,   0.        ],\n",
       "       [  0.        ,  -1.        ]]), array([[1., 0.],\n",
       "       [0., 1.]])]\n",
       "   lagrangian_grad: array([-0.10014502, -0.43615514])\n",
       "           message: '`xtol` termination condition is satisfied.'\n",
       "            method: 'tr_interior_point'\n",
       "              nfev: 654\n",
       "              nhev: 0\n",
       "               nit: 218\n",
       "             niter: 218\n",
       "              njev: 218\n",
       "        optimality: 0.43615514461095173\n",
       "            status: 2\n",
       "           success: True\n",
       "         tr_radius: 4.608457736584587e-09\n",
       "                 v: [array([-0.06330897, -0.00840702, -0.0062786 , -0.01564602]), array([0.1317514 , 0.47648285])]\n",
       "                 x: array([0.01847008, 0.20855884])"
      ]
     },
     "execution_count": 19,
     "metadata": {},
     "output_type": "execute_result"
    }
   ],
   "source": [
    "res"
   ]
  },
  {
   "cell_type": "markdown",
   "id": "62bd5cee",
   "metadata": {},
   "source": [
    "### Apply COBYLA method"
   ]
  },
  {
   "cell_type": "markdown",
   "id": "29d96ba1",
   "metadata": {},
   "source": [
    "#### calculation process of cons:\n",
    "\n",
    "transform the constraints to non-negative inequality constraints:\n",
    "\n",
    "$$\\begin{bmatrix}\n",
    "2x_1^4 - 8x_1^3 + 8x_1^2 - x_2 + 2\\\\\n",
    "4x_1^4 - 32x_1^3 + 88x_1^2 - 96x_1 - x_2 + 36\\\\\n",
    "-x_1 + 3\\\\\n",
    "-x_2 + 4\n",
    "\\end{bmatrix}\n",
    "\\ge\n",
    "\\begin{bmatrix}\n",
    "0\\\\\n",
    "0\\\\\n",
    "0\\\\\n",
    "0\n",
    "\\end{bmatrix}$$\n",
    "(COBYLA cannot handle bounds on the variables)\n"
   ]
  },
  {
   "cell_type": "code",
   "execution_count": 22,
   "id": "7cd1694f",
   "metadata": {},
   "outputs": [],
   "source": [
    "cons = ({'type': 'ineq', 'fun': lambda x: (2 * x[0])**4 - (8 * x[0])**3 + (8 * x[0])**2 - x[1] + 2},\n",
    "        {'type': 'ineq', 'fun': lambda x: (4 * x[0])**4 - (32 * x[0])**3 + (88 * x[0])**2 - 96 * x[0] - x[1] + 36},\n",
    "        {'type': 'ineq', 'fun': lambda x: -x[0] + 3},\n",
    "        {'type': 'ineq', 'fun': lambda x: -x[1] + 4}\n",
    "       )"
   ]
  },
  {
   "cell_type": "code",
   "execution_count": 23,
   "id": "82b7e7f0",
   "metadata": {},
   "outputs": [
    {
     "name": "stdout",
     "output_type": "stream",
     "text": [
      "[-0.12490539  4.        ]\n"
     ]
    }
   ],
   "source": [
    "# TODO\n",
    "# Note that COBYLA only supports inequality constraints.\n",
    "res = minimize(f, x0, method='COBYLA', constraints=cons)\n",
    "print(res.x)"
   ]
  },
  {
   "cell_type": "code",
   "execution_count": 24,
   "id": "74af2b4a",
   "metadata": {},
   "outputs": [
    {
     "data": {
      "text/plain": [
       "     fun: -3.875094608263893\n",
       "   maxcv: 0.0\n",
       " message: 'Optimization terminated successfully.'\n",
       "    nfev: 25\n",
       "  status: 1\n",
       " success: True\n",
       "       x: array([-0.12490539,  4.        ])"
      ]
     },
     "execution_count": 24,
     "metadata": {},
     "output_type": "execute_result"
    }
   ],
   "source": [
    "res"
   ]
  },
  {
   "cell_type": "code",
   "execution_count": null,
   "id": "72b1c10e",
   "metadata": {},
   "outputs": [],
   "source": []
  }
 ],
 "metadata": {
  "kernelspec": {
   "display_name": "Python 3 (ipykernel)",
   "language": "python",
   "name": "python3"
  },
  "language_info": {
   "codemirror_mode": {
    "name": "ipython",
    "version": 3
   },
   "file_extension": ".py",
   "mimetype": "text/x-python",
   "name": "python",
   "nbconvert_exporter": "python",
   "pygments_lexer": "ipython3",
   "version": "3.9.12"
  }
 },
 "nbformat": 4,
 "nbformat_minor": 5
}
